{
 "cells": [
  {
   "cell_type": "code",
   "execution_count": 40,
   "metadata": {},
   "outputs": [],
   "source": [
    "def arcPlacement(dataFormat, paperFormat, bleed=0):\n",
    "    a1=paperFormat[0]//(dataFormat[0] + 2 * dataFormat[2])\n",
    "    b1=paperFormat[0]//(dataFormat[1] + 2 * dataFormat[2])\n",
    "    b2=paperFormat[1]//(dataFormat[0] + 2 * dataFormat[2])\n",
    "    a2=paperFormat[1]//(dataFormat[1] + 2 * dataFormat[2])\n",
    "    return (a1*a2, a1, a2, \"stejne\") if a1*a2 >= b1*b2 else (b1*b2, b2, b1,\"otoceno\")\n",
    "\n",
    "def numberOfCutting(placement, bleed = False):\n",
    "    if not bleed:\n",
    "        return(placement[1] + 1 + placement[2] + 2)\n",
    "    else:\n",
    "        return(2 * (placement[1] + 1 + placement[2] + 2))\n",
    "    \n",
    "def weightKg(paperFormat, gsm, ks):\n",
    "    return (gsm/1000 * ((paperFormat[0] * paperFormat[1])/1000000) * ks)\n",
    "\n",
    "gsm=200\n",
    "klik=1.2 + 1.2\n",
    "priprava=50\n",
    "papir=0.5\n",
    "rezaniHod=500\n",
    "rezuHod=60\n",
    "baleni=500\n",
    "balHod=60\n",
    "dataFormat=(210,297,2)\n",
    "paperFormat=(320,450)\n",
    "placement = arcPlacement(dataFormat, paperFormat)\n",
    "ks=50\n",
    "naarch=placement[0]\n",
    "pocetRezu = numberOfCutting(placement, bleed=True)\n",
    "vaha = weightKg((dataFormat[0],dataFormat[1]), gsm, ks)"
   ]
  },
  {
   "cell_type": "code",
   "execution_count": 41,
   "metadata": {},
   "outputs": [],
   "source": [
    "prujezdCena = klik+papir\n",
    "pocetPrujezdu = (ks/naarch)*1.05\n",
    "rezaniCenaRez = rezaniHod/rezuHod\n",
    "baleniCenaKs = baleni/balHod"
   ]
  },
  {
   "cell_type": "code",
   "execution_count": 42,
   "metadata": {
    "scrolled": true
   },
   "outputs": [
    {
     "name": "stdout",
     "output_type": "stream",
     "text": [
      "tisk 126.12 priprava 116.67 dohromady 242.79\n"
     ]
    }
   ],
   "source": [
    "cenaTisk=priprava + (prujezdCena * pocetPrujezdu) \n",
    "cenaDok= rezaniCenaRez*pocetRezu+2*baleniCenaKs\n",
    "print(\"tisk {:.2f} priprava {:.2f} dohromady {:.2f}\".format(cenaTisk, cenaDok, cenaTisk + cenaDok))"
   ]
  },
  {
   "cell_type": "code",
   "execution_count": null,
   "metadata": {
    "collapsed": true
   },
   "outputs": [],
   "source": []
  },
  {
   "cell_type": "code",
   "execution_count": 45,
   "metadata": {},
   "outputs": [
    {
     "name": "stdout",
     "output_type": "stream",
     "text": [
      "cena je komplet 528.80Kč \n",
      "\n",
      "tisk 126.12 dokonceni 116.67 dohromady 242.79\n",
      "průjezdů 26.25 cena za ks 10.58Kč\n",
      "čas tisku 1.05min rezani cas 12.0min vaha vysledku 0.6237kg\n"
     ]
    }
   ],
   "source": [
    "rysova_konstanta=1.5\n",
    "tvorba_zisku=1.2\n",
    "dph=1.21\n",
    "cenaFinal=(cenaTisk+cenaDok)*rysova_konstanta*tvorba_zisku*dph\n",
    "print(\"cena je komplet {:.2f}Kč \\n\".format(cenaFinal))\n",
    "print(\"tisk {:.2f} dokonceni {:.2f} dohromady {:.2f}\".format(cenaTisk, cenaDok, cenaTisk + cenaDok))\n",
    "print(\"průjezdů {} cena za ks {:.2f}Kč\".format(pocetPrujezdu, cenaFinal/ks))\n",
    "print(\"čas tisku {:.2f}min rezani cas {}min vaha vysledku {}kg\".format(pocetPrujezdu/25, 60/rezuHod*pocetRezu, vaha))"
   ]
  },
  {
   "cell_type": "code",
   "execution_count": null,
   "metadata": {
    "collapsed": true
   },
   "outputs": [],
   "source": []
  },
  {
   "cell_type": "code",
   "execution_count": null,
   "metadata": {
    "collapsed": true
   },
   "outputs": [],
   "source": []
  }
 ],
 "metadata": {
  "kernelspec": {
   "display_name": "Python 3",
   "language": "python",
   "name": "python3"
  },
  "language_info": {
   "codemirror_mode": {
    "name": "ipython",
    "version": 3
   },
   "file_extension": ".py",
   "mimetype": "text/x-python",
   "name": "python",
   "nbconvert_exporter": "python",
   "pygments_lexer": "ipython3",
   "version": "3.5.4"
  }
 },
 "nbformat": 4,
 "nbformat_minor": 2
}

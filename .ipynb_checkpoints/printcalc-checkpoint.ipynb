{
 "cells": [
  {
   "cell_type": "code",
   "execution_count": 6,
   "metadata": {
    "collapsed": true
   },
   "outputs": [],
   "source": [
    "dataFormat=(148,210,2)\n",
    "ks=15\n",
    "paperFormat=(320,450)\n",
    "gsm=300"
   ]
  },
  {
   "cell_type": "code",
   "execution_count": 14,
   "metadata": {},
   "outputs": [],
   "source": [
    "def arcPlacement(dataFormat, paperFormat):\n",
    "    a1=paperFormat[0]//(dataFormat[0] + 2 * dataFormat[2])\n",
    "    b1=paperFormat[0]//(dataFormat[1] + 2 * dataFormat[2])\n",
    "    b2=paperFormat[1]//(dataFormat[0] + 2 * dataFormat[2])\n",
    "    a2=paperFormat[1]//(dataFormat[1] + 2 * dataFormat[2])\n",
    "    return (a1*a2, a1, a2, \"stejne\") if a1*a2 >= b1*b2 else (b1*b2, b2, b1,\"otoceno\")\n",
    "\n",
    "def numberOfCutting(placement, bleed = False):\n",
    "    if not bleed:\n",
    "        return(placement[1] + 1 + placement[2] + 2)\n",
    "    else:\n",
    "        return(2 * (placement[1] + 1 + placement[2] + 2))\n",
    "    \n",
    "def weightKg(paperFormat, gsm, ks):\n",
    "    return (gsm/1000 * ((paperFormat[0] * paperFormat[1])/1000000) * ks)\n",
    "\n",
    "\n",
    "klik=1.2 + 2\n",
    "\n",
    "priprava=50\n",
    "\n",
    "cenaKilo = 25\n",
    "papir = cenaKilo * weightKg(dataFormat, gsm,1)\n",
    "\n",
    "rezaniHod=500\n",
    "rezuHod=60\n",
    "\n",
    "baleni=500\n",
    "balHod=60\n",
    "placement = arcPlacement(dataFormat, paperFormat)\n",
    "naarch=placement[0]\n",
    "\n",
    "pocetRezu = numberOfCutting(placement, bleed=True)\n",
    "vaha = weightKg((dataFormat[0],dataFormat[1]), gsm, ks)"
   ]
  },
  {
   "cell_type": "code",
   "execution_count": 15,
   "metadata": {},
   "outputs": [
    {
     "name": "stdout",
     "output_type": "stream",
     "text": [
      "prujezd 3.43Kc pocetPrujezdu 3.94ks rezani 8.33Kc baleni 8.33kc\n"
     ]
    }
   ],
   "source": [
    "prujezdCena = klik+papir\n",
    "pocetPrujezdu = (ks/naarch)*1.05\n",
    "rezaniCenaRez = rezaniHod/rezuHod\n",
    "baleniCenaKs = baleni/balHod\n",
    "print(\"prujezd {:.2f}Kc pocetPrujezdu {:.2f}ks rezani {:.2f}Kc baleni {:.2f}kc\".format(prujezdCena, pocetPrujezdu, rezaniCenaRez, baleniCenaKs))"
   ]
  },
  {
   "cell_type": "code",
   "execution_count": 16,
   "metadata": {},
   "outputs": [
    {
     "name": "stdout",
     "output_type": "stream",
     "text": [
      "tisk 63.52 dokonceni 133.33 dohromady 196.85\n"
     ]
    }
   ],
   "source": [
    "cenaTisk=priprava + (prujezdCena * pocetPrujezdu) \n",
    "cenaDok= rezaniCenaRez*pocetRezu+2*baleniCenaKs\n",
    "print(\"tisk {:.2f} dokonceni {:.2f} dohromady {:.2f}\".format(cenaTisk, cenaDok, cenaTisk + cenaDok))"
   ]
  },
  {
   "cell_type": "code",
   "execution_count": 19,
   "metadata": {},
   "outputs": [
    {
     "name": "stdout",
     "output_type": "stream",
     "text": [
      "cena je komplet 428.74Kč tj. 196.85Kc \n",
      "\n",
      "tisk 63.52 dokonceni 133.33 dohromady 196.85\n",
      "průjezdů 3.9375 cena za ks 28.58Kč\n",
      "čas tisku 0.16min rezani cas 14.0min vaha vysledku 0.140kg\n"
     ]
    }
   ],
   "source": [
    "rysova_konstanta=1.5\n",
    "tvorba_zisku=1.2\n",
    "dph=1.21\n",
    "cenaFinal=(cenaTisk+cenaDok)*rysova_konstanta*tvorba_zisku*dph\n",
    "print(\"cena je komplet {:.2f}Kč tj. {:.2f}Kc \\n\".format(cenaFinal, cenaTisk+cenaDok))\n",
    "print(\"tisk {:.2f} dokonceni {:.2f} dohromady {:.2f}\".format(cenaTisk, cenaDok, cenaTisk + cenaDok))\n",
    "print(\"průjezdů {} cena za ks {:.2f}Kč\".format(pocetPrujezdu, cenaFinal/ks))\n",
    "print(\"čas tisku {:.2f}min rezani cas {}min vaha vysledku {:.3f}kg\".format(pocetPrujezdu/25, 60/rezuHod*pocetRezu, vaha))"
   ]
  },
  {
   "cell_type": "code",
   "execution_count": null,
   "metadata": {
    "collapsed": true
   },
   "outputs": [],
   "source": [
    "import os\n",
    "os.getcwd()"
   ]
  },
  {
   "cell_type": "code",
   "execution_count": null,
   "metadata": {
    "collapsed": true
   },
   "outputs": [],
   "source": []
  }
 ],
 "metadata": {
  "kernelspec": {
   "display_name": "Python 3",
   "language": "python",
   "name": "python3"
  },
  "language_info": {
   "codemirror_mode": {
    "name": "ipython",
    "version": 3
   },
   "file_extension": ".py",
   "mimetype": "text/x-python",
   "name": "python",
   "nbconvert_exporter": "python",
   "pygments_lexer": "ipython3",
   "version": "3.5.4"
  }
 },
 "nbformat": 4,
 "nbformat_minor": 2
}

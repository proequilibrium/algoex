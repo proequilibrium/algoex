{
 "cells": [
  {
   "cell_type": "code",
   "execution_count": 6,
   "metadata": {},
   "outputs": [],
   "source": [
    "dataFormat=(121,170,2)\n",
    "pocet=18000\n",
    "ksNaKs=10\n",
    "ks=pocet*ksNaKs\n",
    "\n",
    "paperFormat=(410,605)\n",
    "gsm=80\n",
    "\n",
    "doubleside = 1\n",
    "\n",
    "#papir = 0.97\n",
    "\n",
    "cenaKilo = 25\n",
    "\n",
    "try:\n",
    "    papir\n",
    "except NameError:\n",
    "    papir = cenaKilo * weightKg(dataFormat, gsm,1)\n"
   ]
  },
  {
   "cell_type": "code",
   "execution_count": 18,
   "metadata": {},
   "outputs": [],
   "source": [
    "def arcPlacement(dataFormat, paperFormat):\n",
    "    a1=paperFormat[0]//(dataFormat[0] + 2 * dataFormat[2])\n",
    "    b1=paperFormat[0]//(dataFormat[1] + 2 * dataFormat[2])\n",
    "    b2=paperFormat[1]//(dataFormat[0] + 2 * dataFormat[2])\n",
    "    a2=paperFormat[1]//(dataFormat[1] + 2 * dataFormat[2])\n",
    "    return (a1*a2, a1, a2, \"stejne\") if a1*a2 >= b1*b2 else (b1*b2, b2, b1,\"otoceno\")\n",
    "\n",
    "def numberOfCutting(placement, bleed = False):\n",
    "    if not bleed:\n",
    "        return(placement[1] + 1 + placement[2] + 2)\n",
    "    else:\n",
    "        return(2 * (placement[1] + 1 + placement[2] + 2))\n",
    "    \n",
    "def weightKg(paperFormat, gsm, ks):\n",
    "    return (gsm/1000 * ((paperFormat[0] * paperFormat[1])/1000000) * ks)\n",
    "\n",
    "prujezd=0.3\n",
    "\n",
    "priprava=500\n",
    "\n",
    "cenaKilo = 25\n",
    "papir = cenaKilo * weightKg(paperFormat, gsm,1)\n",
    "papirUzitek = cenaKilo * weightKg(dataFormat, gsm,1)\n",
    "\n",
    "rezaniHod=500\n",
    "rezuHod=60\n",
    "\n",
    "baleni=500\n",
    "balHod=60\n",
    "placement = arcPlacement(dataFormat, paperFormat)\n",
    "naarch=placement[0]\n",
    "\n",
    "pocetRezu = numberOfCutting(placement, bleed=True)\n",
    "vaha = weightKg((dataFormat[0],dataFormat[1]), gsm, ks)\n",
    "\n",
    "prujezdRychlost=5500\n",
    "prujezdMinuta=prujezdRychlost/60"
   ]
  },
  {
   "cell_type": "code",
   "execution_count": 19,
   "metadata": {},
   "outputs": [
    {
     "name": "stdout",
     "output_type": "stream",
     "text": [
      "papir 0.4961 celkem za papir10418.1\n",
      "prujezd 1.10Kc pocetPrujezdu 21000.00ks rezani 333.33Kc baleni 3000.00kc\n"
     ]
    }
   ],
   "source": [
    "if doubleside:\n",
    "    prujezdCena = 2*prujezd+papir\n",
    "else:\n",
    "    prujezdCena = prujezd+papir\n",
    "pocetPrujezdu = (ks/naarch)*1.05\n",
    "\n",
    "rezaniCenaRez = (rezaniHod/rezuHod)*((ks/naarch)/500)\n",
    "\n",
    "baleniCenaKs = (baleni/balHod)*(ks/500)\n",
    "print(\"papir {} celkem za papir{}\".format(papir, papir*pocetPrujezdu))\n",
    "print(\"prujezd {:.2f}Kc pocetPrujezdu {:.2f}ks rezani {:.2f}Kc baleni {:.2f}kc\".format(prujezdCena, pocetPrujezdu, rezaniCenaRez, baleniCenaKs))"
   ]
  },
  {
   "cell_type": "code",
   "execution_count": 13,
   "metadata": {},
   "outputs": [
    {
     "name": "stdout",
     "output_type": "stream",
     "text": [
      "tisk 13963.94 dokonceni 12000.00 dohromady 25963.94\n"
     ]
    }
   ],
   "source": [
    "cenaTisk=priprava + (prujezdCena * pocetPrujezdu) \n",
    "cenaDok= rezaniCenaRez*pocetRezu+2*baleniCenaKs\n",
    "print(\"tisk {:.2f} dokonceni {:.2f} dohromady {:.2f}\".format(cenaTisk, cenaDok, cenaTisk + cenaDok))"
   ]
  },
  {
   "cell_type": "code",
   "execution_count": 15,
   "metadata": {},
   "outputs": [
    {
     "name": "stdout",
     "output_type": "stream",
     "text": [
      "cena je komplet \n",
      "37699.64Kč bez DPH 31156.73Kc\n",
      "hrubá 25963.94Kc \n",
      "\n",
      "tisk \n",
      "13963.94 dokonceni 12000.00\n",
      "dohromady 25963.94\n",
      "průjezdů 21000.0 \n",
      "cena za ks 2.09Kč\n",
      "čas tisku 229.09min rezani cas 18.0min vaha vysledku 296.208kg\n"
     ]
    }
   ],
   "source": [
    "rysova_konstanta=1\n",
    "tvorba_zisku=1.2\n",
    "dph=1.21\n",
    "\n",
    "cenaFinal=(cenaTisk+cenaDok)*rysova_konstanta*tvorba_zisku*dph\n",
    "print(\"cena je komplet \\n{:.2f}Kč bez DPH {:.2f}Kc\\nhrubá {:.2f}Kc \\n\".format(cenaFinal, cenaFinal/1.21, cenaTisk+cenaDok))\n",
    "print(\"tisk \\n{:.2f} dokonceni {:.2f}\\ndohromady {:.2f}\".format(cenaTisk, cenaDok, cenaTisk + cenaDok))\n",
    "print(\"průjezdů {} \\ncena za ks {:.2f}Kč\".format(pocetPrujezdu, cenaFinal/ks*ksNaKs))\n",
    "print(\"čas tisku {:.2f}min rezani cas {}min vaha vysledku {:.3f}kg\".format(pocetPrujezdu/prujezdMinuta, 60/rezuHod*pocetRezu, vaha))"
   ]
  },
  {
   "cell_type": "code",
   "execution_count": null,
   "metadata": {},
   "outputs": [],
   "source": []
  },
  {
   "cell_type": "code",
   "execution_count": null,
   "metadata": {},
   "outputs": [],
   "source": []
  }
 ],
 "metadata": {
  "kernelspec": {
   "display_name": "Python 3",
   "language": "python",
   "name": "python3"
  },
  "language_info": {
   "codemirror_mode": {
    "name": "ipython",
    "version": 3
   },
   "file_extension": ".py",
   "mimetype": "text/x-python",
   "name": "python",
   "nbconvert_exporter": "python",
   "pygments_lexer": "ipython3",
   "version": "3.5.3"
  }
 },
 "nbformat": 4,
 "nbformat_minor": 2
}

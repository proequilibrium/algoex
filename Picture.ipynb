{
 "cells": [
  {
   "cell_type": "code",
   "execution_count": 1,
   "metadata": {
    "collapsed": true
   },
   "outputs": [],
   "source": [
    "import numpy as np\n",
    "import cv2\n",
    "\n",
    "def color_transfer(source, target):\n",
    "    source = cv2.cvtColor(source, cv2.COLOR_BGR2LAB).astype(\"float32\")\n",
    "    target = cv2.cvtColor(target, cv2.COLOR_BGR2LAB).astype(\"float32\")\n",
    "    \n",
    "        # compute color statistics for the source and target images\n",
    "    (lMeanSrc, lStdSrc, aMeanSrc, aStdSrc, bMeanSrc, bStdSrc) = image_stats(source)\n",
    "    (lMeanTar, lStdTar, aMeanTar, aStdTar, bMeanTar, bStdTar) = image_stats(target)\n",
    "\n",
    "    # subtract the means from the target image\n",
    "    (l, a, b) = cv2.split(target)\n",
    "    l -= lMeanTar\n",
    "    a -= aMeanTar\n",
    "    b -= bMeanTar\n",
    "\n",
    "    # scale by the standard deviations\n",
    "    l = (lStdTar / lStdSrc) * l\n",
    "    a = (aStdTar / aStdSrc) * a\n",
    "    b = (bStdTar / bStdSrc) * b\n",
    "\n",
    "    # add in the source mean\n",
    "    l += lMeanSrc\n",
    "    a += aMeanSrc\n",
    "    b += bMeanSrc\n",
    "\n",
    "    # clip the pixel intensities to [0, 255] if they fall outside\n",
    "    # this range\n",
    "    l = np.clip(l, 0, 255)\n",
    "    a = np.clip(a, 0, 255)\n",
    "    b = np.clip(b, 0, 255)\n",
    "\n",
    "    # merge the channels together and convert back to the RGB color\n",
    "    # space, being sure to utilize the 8-bit unsigned integer data\n",
    "    # type\n",
    "    transfer = cv2.merge([l, a, b])\n",
    "    transfer = cv2.cvtColor(transfer.astype(\"uint8\"), cv2.COLOR_LAB2BGR)\n",
    "    \n",
    "    # return the color transferred image\n",
    "    return transfer"
   ]
  },
  {
   "cell_type": "code",
   "execution_count": 2,
   "metadata": {
    "collapsed": true
   },
   "outputs": [],
   "source": []
  },
  {
   "cell_type": "code",
   "execution_count": null,
   "metadata": {
    "collapsed": true
   },
   "outputs": [],
   "source": []
  }
 ],
 "metadata": {
  "kernelspec": {
   "display_name": "Python 3",
   "language": "python",
   "name": "python3"
  },
  "language_info": {
   "codemirror_mode": {
    "name": "ipython",
    "version": 3
   },
   "file_extension": ".py",
   "mimetype": "text/x-python",
   "name": "python",
   "nbconvert_exporter": "python",
   "pygments_lexer": "ipython3",
   "version": "3.5.4"
  }
 },
 "nbformat": 4,
 "nbformat_minor": 2
}

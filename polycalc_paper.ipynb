{
 "cells": [
  {
   "cell_type": "code",
   "execution_count": 12,
   "metadata": {},
   "outputs": [
    {
     "name": "stdout",
     "output_type": "stream",
     "text": [
      "exemplaru:--10-- x5 y2 zbyvax: 35 zbyvy: 110    vysl stav:otoceno\n"
     ]
    }
   ],
   "source": [
    "def orient(x,y,width,height):\n",
    "    a1=width//x\n",
    "    b1=width//y\n",
    "    b2=height//x\n",
    "    a2=height//y\n",
    "    return (a1*a2, a1, a2, width-a1*x, height-a2*y, \"stejne\") if a1*a2 >= b1*b2 else [b1*b2, b2, b1, height-(b2*x), width-(b1*y),\"otoceno\"]\n",
    "\n",
    "\n",
    "x=121\n",
    "y=170\n",
    "width=450\n",
    "height=640\n",
    "\n",
    "vys=orient(x,y,width,height)\n",
    "print(\"exemplaru:--{}-- x{} y{} zbyvax: {} zbyvy: {}    vysl stav:{}\".format(vys[0],vys[1],vys[2],vys[3],vys[4],vys[5]))"
   ]
  },
  {
   "cell_type": "code",
   "execution_count": 20,
   "metadata": {},
   "outputs": [
    {
     "name": "stdout",
     "output_type": "stream",
     "text": [
      "0 -1\n",
      "1 -2\n",
      "2 -3\n",
      "3 -4\n",
      "4 -5\n",
      "5 -6\n",
      "6 -7\n",
      "True\n",
      "0 -1\n",
      "1 -2\n",
      "2 -3\n",
      "3 -4\n",
      "4 -5\n",
      "5 -6\n",
      "False\n"
     ]
    }
   ],
   "source": [
    "class Palindrome:\n",
    "  @staticmethod\n",
    "  def is_palindrome(word):\n",
    "    isPalindrome = True\n",
    "    for i, c in enumerate(word):\n",
    "      j=i+1  \n",
    "      print(\"{} {}\".format(i,-j)) \n",
    "      if word[i].upper()!=word[-j].upper():\n",
    "        isPalindrome = False\n",
    "    return isPalindrome\n",
    "    \n",
    "word = \"Deveved\"\n",
    "print(Palindrome.is_palindrome(word))\n",
    "word = \"asdjll\"\n",
    "print(Palindrome.is_palindrome(word))"
   ]
  },
  {
   "cell_type": "code",
   "execution_count": null,
   "metadata": {},
   "outputs": [],
   "source": []
  }
 ],
 "metadata": {
  "kernelspec": {
   "display_name": "Python 3",
   "language": "python",
   "name": "python3"
  },
  "language_info": {
   "codemirror_mode": {
    "name": "ipython",
    "version": 3
   },
   "file_extension": ".py",
   "mimetype": "text/x-python",
   "name": "python",
   "nbconvert_exporter": "python",
   "pygments_lexer": "ipython3",
   "version": "3.5.3"
  }
 },
 "nbformat": 4,
 "nbformat_minor": 2
}

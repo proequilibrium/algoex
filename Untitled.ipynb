{
 "cells": [
  {
   "cell_type": "code",
   "execution_count": 3,
   "metadata": {},
   "outputs": [
    {
     "name": "stdout",
     "output_type": "stream",
     "text": [
      "['A1', 'A2', 'A3', 'A4', 'A5', 'A6', 'A7', 'A8', 'A9', 'A10', 'A11', 'A12', 'A13', 'A14', 'A15', 'B1', 'B2', 'B3', 'B4', 'B5', 'B6', 'B7', 'B8', 'B9', 'B10', 'B11', 'B12', 'B13', 'B14', 'B15', 'C1', 'C2', 'C3', 'C4', 'C5', 'C6', 'C7', 'C8', 'C9', 'C10', 'C11', 'C12', 'C13', 'C14', 'C15', 'D1', 'D2', 'D3', 'D4', 'D5', 'D6', 'D7', 'D8', 'D9', 'D10', 'D11', 'D12', 'D13', 'D14', 'D15', 'E1', 'E2', 'E3', 'E4', 'E5', 'E6', 'E7', 'E8', 'E9', 'E10', 'E11', 'E12', 'E13', 'E14', 'E15', 'F1', 'F2', 'F3', 'F4', 'F5', 'F6', 'F7', 'F8', 'F9', 'F10', 'F11', 'F12', 'F13', 'F14', 'F15', 'G1', 'G2', 'G3', 'G4', 'G5', 'G6', 'G7', 'G8', 'G9', 'G10', 'G11', 'G12', 'G13', 'G14', 'G15', 'H1', 'H2', 'H3', 'H4', 'H5', 'H6', 'H7', 'H8', 'H9', 'H10', 'H11', 'H12', 'H13', 'H14', 'H15', 'I1', 'I2', 'I3', 'I4', 'I5', 'I6', 'I7', 'I8', 'I9', 'I10', 'I11', 'I12', 'I13', 'I14', 'I15', 'J1', 'J2', 'J3', 'J4', 'J5', 'J6', 'J7', 'J8', 'J9', 'J10', 'J11', 'J12', 'J13', 'J14', 'J15', 'K1', 'K2', 'K3', 'K4', 'K5', 'K6', 'K7', 'K8', 'K9', 'K10', 'K11', 'K12', 'K13', 'K14', 'K15', 'L1', 'L2', 'L3', 'L4', 'L5', 'L6', 'L7', 'L8', 'L9', 'L10', 'L11', 'L12', 'L13', 'L14', 'L15', 'M1', 'M2', 'M3', 'M4', 'M5', 'M6', 'M7', 'M8', 'M9', 'M10', 'M11', 'M12', 'M13', 'M14', 'M15', 'N1', 'N2', 'N3', 'N4', 'N5', 'N6', 'N7', 'N8', 'N9', 'N10', 'N11', 'N12', 'N13', 'N14', 'N15', 'O1', 'O2', 'O3', 'O4', 'O5', 'O6', 'O7', 'O8', 'O9', 'O10', 'O11', 'O12', 'O13', 'O14', 'O15']\n"
     ]
    }
   ],
   "source": [
    "def genShots():\n",
    "    alphabet = \"ABCDEFGHIJKLMNO\"\n",
    "    nums=[1, 2, 3, 4, 5, 6, 7, 8, 9, 10, 11, 12, 13, 14, 15]\n",
    "    shots = []\n",
    "    for i in range(15):\n",
    "        for j in range(15):\n",
    "            shots.append(str(alphabet[i]+str(nums[j])))\n",
    "    return shots\n",
    "\n",
    "print(genShots())"
   ]
  },
  {
   "cell_type": "code",
   "execution_count": 14,
   "metadata": {},
   "outputs": [
    {
     "name": "stdout",
     "output_type": "stream",
     "text": [
      "225\n",
      "E5\n",
      "C2\n",
      "M1\n",
      "K15\n",
      "K12\n",
      "B1\n",
      "A8\n",
      "N6\n",
      "I12\n",
      "N9\n",
      "215\n"
     ]
    }
   ],
   "source": [
    "import socket\n",
    "import random\n",
    "import json\n",
    "\n",
    "shots = genShots()\n",
    "print(len(shots))\n",
    "for _ in range(10):\n",
    "    shot = random.choice(shots)\n",
    "    print(shot)\n",
    "    shots.remove(shot)\n",
    "import socket\n",
    "import random\n",
    "import jsonprint(len(shots))"
   ]
  },
  {
   "cell_type": "code",
   "execution_count": 16,
   "metadata": {},
   "outputs": [
    {
     "name": "stdout",
     "output_type": "stream",
     "text": [
      "Greeting\n",
      "\n",
      "Send your moves in form A10, B1 ..\n",
      "\n",
      "Round 0 STARTS -----------\n",
      "Status 0 0 (N/A)\n",
      "Round 0 After shot A7 result:Missed\n",
      "Round 0 After shot N7 result:Missed\n",
      "Round 0 After shot N1 result:Hit\n",
      "Round 0 After shot C12 result:Missed\n",
      "Round 0 After shot N5 result:Missed\n",
      "Round 0 After shot H9 result:Missed\n",
      "Round 0 After shot H6 result:Missed\n",
      "Round 0 After shot F15 result:Missed\n",
      "Round 0 After shot J4 result:Missed\n",
      "Round 0 After shot K14 result:Hit\n",
      "Round 0 After shot F2 result:Hit\n",
      "Round 0 After shot H4 result:Missed\n",
      "Round 0 After shot H7 result:Missed\n",
      "Round 0 After shot N10 result:Missed\n",
      "Round 0 After shot L1 result:Missed\n",
      "Round 0 After shot K12 result:Missed\n",
      "Round 0 After shot B12 result:Missed\n",
      "Round 0 After shot G9 result:Missed\n",
      "Round 0 After shot A3 result:Missed\n",
      "Round 0 After shot H1 result:Missed\n",
      "Round 0 After shot A5 result:Missed\n",
      "Round 0 After shot D15 result:Missed\n",
      "Round 0 After shot O10 result:Missed\n",
      "Round 0 After shot O3 result:Missed\n",
      "Round 0 After shot K9 result:Missed\n",
      "Round 0 After shot E15 result:Missed\n",
      "Round 0 After shot A14 result:Missed\n",
      "Round 0 After shot E8 result:Missed\n",
      "Round 0 After shot J13 result:Missed\n",
      "Round 0 After shot K11 result:Missed\n",
      "Round 0 After shot K2 result:Missed\n",
      "Round 0 After shot L6 result:Missed\n",
      "Round 0 After shot M7 result:Missed\n",
      "Round 0 After shot B11 result:Missed\n",
      "Round 0 After shot O2 result:Hit\n",
      "Round 0 After shot L5 result:Missed\n",
      "Round 0 After shot M12 result:Missed\n",
      "Round 0 After shot G10 result:Missed\n",
      "Round 0 After shot G8 result:Missed\n",
      "Round 0 After shot D2 result:Missed\n",
      "Round 0 After shot C14 result:Missed\n",
      "Round 0 After shot N6 result:Missed\n",
      "Round 0 After shot H3 result:Missed\n",
      "Round 0 After shot J10 result:Missed\n",
      "Round 0 After shot L15 result:Hit\n",
      "Round 0 After shot I1 result:Missed\n",
      "Round 0 After shot N15 result:Missed\n",
      "Round 0 After shot M8 result:Missed\n",
      "Round 0 After shot F5 result:Missed\n",
      "Round 0 After shot B3 result:Missed\n",
      "Round 0 After shot C10 result:Missed\n",
      "Round 0 After shot N11 result:Missed\n",
      "Round 0 After shot I10 result:Missed\n",
      "Round 0 After shot C13 result:Missed\n",
      "Round 0 After shot O11 result:Missed\n",
      "Round 0 After shot L7 result:Missed\n",
      "Round 0 After shot C4 result:Missed\n",
      "Round 0 After shot I3 result:Missed\n",
      "Round 0 After shot C6 result:Missed\n",
      "Round 0 After shot H2 result:Hit\n",
      "Round 0 After shot M10 result:Missed\n",
      "Round 0 After shot N2 result:Hit\n",
      "Round 0 After shot J1 result:Missed\n",
      "Round 0 After shot B1 result:Missed\n",
      "Round 0 After shot F3 result:Missed\n",
      "Round 0 After shot E2 result:Missed\n",
      "Round 0 After shot K1 result:Missed\n",
      "Round 0 After shot D4 result:Missed\n",
      "Round 0 After shot A6 result:Missed\n",
      "Round 0 After shot A8 result:Missed\n",
      "Round 0 After shot N12 result:Missed\n",
      "Round 0 After shot L12 result:Missed\n",
      "Round 0 After shot L2 result:Missed\n",
      "Round 0 After shot F10 result:Missed\n",
      "Round 0 After shot H12 result:Missed\n",
      "Round 0 After shot I14 result:Missed\n",
      "Round 0 After shot E5 result:Hit\n",
      "Round 0 After shot O5 result:Missed\n",
      "Round 0 After shot E3 result:Missed\n",
      "Round 0 After shot M4 result:Missed\n",
      "Round 0 After shot H11 result:Hit\n",
      "Round 0 After shot E13 result:Missed\n",
      "Round 0 After shot B4 result:Missed\n",
      "Round 0 After shot N4 result:Missed\n",
      "Round 0 After shot E14 result:Missed\n",
      "Round 0 After shot F7 result:Missed\n",
      "Round 0 After shot F4 result:Missed\n",
      "Round 0 After shot E9 result:Missed\n",
      "Round 0 After shot B2 result:Missed\n",
      "Round 0 After shot C9 result:Missed\n",
      "Round 0 After shot I15 result:Missed\n",
      "Round 0 After shot D8 result:Missed\n",
      "Round 0 After shot M2 result:Missed\n",
      "Round 0 After shot B10 result:Missed\n",
      "Round 0 After shot A15 result:Missed\n",
      "Round 0 After shot O7 result:Missed\n",
      "Round 0 After shot K6 result:Missed\n",
      "Round 0 After shot C2 result:Missed\n",
      "Round 0 After shot B15 result:Missed\n",
      "Round 0 After shot F12 result:Missed\n",
      "Round 0 After shot B8 result:Missed\n",
      "Round 0 After shot G3 result:Hit\n",
      "Round 0 After shot L10 result:Missed\n",
      "Round 0 After shot C15 result:Missed\n",
      "Round 0 After shot D13 result:Missed\n",
      "Round 0 After shot A10 result:Missed\n",
      "Round 0 After shot A4 result:Missed\n",
      "Round 0 After shot F9 result:Missed\n",
      "Round 0 After shot D12 result:Missed\n",
      "Round 0 After shot E1 result:Missed\n",
      "Round 0 After shot K4 result:Missed\n",
      "Round 0 After shot F13 result:Missed\n",
      "Round 0 After shot C3 result:Missed\n",
      "Round 0 After shot L9 result:Missed\n",
      "Round 0 After shot M1 result:Missed\n",
      "Round 0 After shot M3 result:Missed\n",
      "Round 0 After shot K15 result:Missed\n",
      "Round 0 After shot J3 result:Missed\n",
      "Round 0 After shot I6 result:Missed\n",
      "Round 0 After shot O6 result:Missed\n",
      "Round 0 After shot N3 result:Hit\n",
      "Round 0 After shot B9 result:Missed\n",
      "Round 0 After shot M5 result:Missed\n",
      "Round 0 After shot D3 result:Missed\n",
      "Round 0 After shot O12 result:Missed\n",
      "Round 0 After shot H14 result:Missed\n",
      "Round 0 After shot O9 result:Missed\n",
      "Round 0 After shot F1 result:Missed\n",
      "Round 0 After shot O14 result:Missed\n",
      "Round 0 After shot J6 result:Missed\n",
      "Round 0 After shot B13 result:Missed\n",
      "Round 0 After shot K8 result:Missed\n",
      "Round 0 After shot K10 result:Missed\n",
      "Round 0 After shot H13 result:Missed\n",
      "Round 0 After shot M9 result:Missed\n",
      "Round 0 After shot I13 result:Missed\n",
      "Round 0 After shot L4 result:Missed\n",
      "Round 0 After shot C1 result:Missed\n",
      "Round 0 After shot M14 result:Hit\n",
      "Round 0 After shot E12 result:Missed\n",
      "Round 0 After shot I12 result:Hit\n",
      "Round 0 After shot J2 result:Missed\n",
      "Round 0 After shot M6 result:Missed\n",
      "Round 0 After shot H15 result:Missed\n",
      "Round 0 After shot L14 result:Hit\n",
      "Round 0 After shot J8 result:Missed\n",
      "Round 0 After shot A12 result:Missed\n",
      "Round 0 After shot D6 result:Hit\n",
      "Round 0 After shot L8 result:Missed\n",
      "Round 0 After shot M11 result:Missed\n"
     ]
    }
   ],
   "source": [
    "import socket\n",
    "import random\n",
    "import json\n",
    "\n",
    "\n",
    "def genShots():\n",
    "    alphabet = \"ABCDEFGHIJKLMNO\"\n",
    "    nums=[1, 2, 3, 4, 5, 6, 7, 8, 9, 10, 11, 12, 13, 14, 15]\n",
    "    shots = []\n",
    "    for i in range(15):\n",
    "        for j in range(15):\n",
    "            shots.append(str(alphabet[i]+str(nums[j])))\n",
    "    return shots\n",
    "\n",
    "with socket.socket(socket.AF_INET, socket.SOCK_STREAM) as s:\n",
    "    s.connect((\"challenges.thecatch.cz\", 8000))\n",
    "    #get greetings\n",
    "    result = s.recv(4048)\n",
    "    print(result.decode('utf-8'))\n",
    "    #get manual\n",
    "    result = s.recv(4048)\n",
    "    print(result.decode('utf-8'))\n",
    "    \n",
    "    for round in range(1):\n",
    "        shots = genShots()\n",
    "        #get game start\n",
    "        print(\"Round {} STARTS -----------\".format(round))\n",
    "        result = s.recv(4048)\n",
    "        game = json.loads(result.decode('utf-8'))\n",
    "        print(\"Status {}\".format(game['overallResult']))\n",
    "        lastRoundResult = game\n",
    "        \n",
    "        while not (game['yourMoveResult'] == 'You win this game' or game['yourMoveResult'] == 'You loose this game'):\n",
    "            shot = random.choice(shots)\n",
    "            shots.remove(shot)\n",
    "            s.send(shot.encode())\n",
    "            result = s.recv(4048)\n",
    "            game = json.loads(result.decode(\"utf-8\"))\n",
    "            print(\"Round {} After shot {} result:{}\".format(round, shot, game['yourMoveResult']))"
   ]
  },
  {
   "cell_type": "code",
   "execution_count": 33,
   "metadata": {},
   "outputs": [
    {
     "name": "stdout",
     "output_type": "stream",
     "text": [
      "            0.300000\n"
     ]
    }
   ],
   "source": [
    "print(\"{:20f}\".format(0.1+0.1+0.1))"
   ]
  },
  {
   "cell_type": "code",
   "execution_count": 34,
   "metadata": {},
   "outputs": [
    {
     "data": {
      "text/plain": [
       "(2+3j)"
      ]
     },
     "execution_count": 34,
     "metadata": {},
     "output_type": "execute_result"
    }
   ],
   "source": [
    "2+3j"
   ]
  },
  {
   "cell_type": "code",
   "execution_count": 35,
   "metadata": {},
   "outputs": [
    {
     "data": {
      "text/plain": [
       "(5+5j)"
      ]
     },
     "execution_count": 35,
     "metadata": {},
     "output_type": "execute_result"
    }
   ],
   "source": [
    "2+3j+3+2j"
   ]
  },
  {
   "cell_type": "code",
   "execution_count": null,
   "metadata": {
    "collapsed": true
   },
   "outputs": [],
   "source": []
  }
 ],
 "metadata": {
  "kernelspec": {
   "display_name": "Python 3",
   "language": "python",
   "name": "python3"
  },
  "language_info": {
   "codemirror_mode": {
    "name": "ipython",
    "version": 3
   },
   "file_extension": ".py",
   "mimetype": "text/x-python",
   "name": "python",
   "nbconvert_exporter": "python",
   "pygments_lexer": "ipython3",
   "version": "3.5.4"
  }
 },
 "nbformat": 4,
 "nbformat_minor": 2
}
